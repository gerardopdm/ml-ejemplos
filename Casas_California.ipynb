{
  "nbformat": 4,
  "nbformat_minor": 0,
  "metadata": {
    "colab": {
      "name": "Casas California.ipynb",
      "version": "0.3.2",
      "provenance": [],
      "include_colab_link": true
    },
    "kernelspec": {
      "name": "python3",
      "display_name": "Python 3"
    }
  },
  "cells": [
    {
      "cell_type": "markdown",
      "metadata": {
        "id": "view-in-github",
        "colab_type": "text"
      },
      "source": [
        "<a href=\"https://colab.research.google.com/github/gerardopdm/ml-ejemplos/blob/master/Casas_California.ipynb\" target=\"_parent\"><img src=\"https://colab.research.google.com/assets/colab-badge.svg\" alt=\"Open In Colab\"/></a>"
      ]
    },
    {
      "cell_type": "code",
      "metadata": {
        "id": "XIkKQ-vDktHA",
        "colab_type": "code",
        "colab": {}
      },
      "source": [
        "import numpy as np\n",
        "import pandas as pd\n",
        "import matplotlib\n",
        "import matplotlib.pyplot as plt\n",
        "from mpl_toolkits.mplot3d import Axes3D  # noqa: F401 unused import\n",
        "import seaborn as sns"
      ],
      "execution_count": 0,
      "outputs": []
    },
    {
      "cell_type": "code",
      "metadata": {
        "id": "DqaxRJ54SpLs",
        "colab_type": "code",
        "colab": {}
      },
      "source": [
        ""
      ],
      "execution_count": 0,
      "outputs": []
    },
    {
      "cell_type": "code",
      "metadata": {
        "id": "CpPP3JJalEai",
        "colab_type": "code",
        "colab": {}
      },
      "source": [
        "data1 = pd.read_csv(\"sample_data/california_housing_train.csv\")"
      ],
      "execution_count": 0,
      "outputs": []
    },
    {
      "cell_type": "code",
      "metadata": {
        "id": "mxwj6neylfr6",
        "colab_type": "code",
        "outputId": "31e288ac-faf7-46e6-ae5e-fc353f923df1",
        "colab": {
          "base_uri": "https://localhost:8080/",
          "height": 224
        }
      },
      "source": [
        "data1.head()"
      ],
      "execution_count": 0,
      "outputs": [
        {
          "output_type": "execute_result",
          "data": {
            "text/html": [
              "<div>\n",
              "<style scoped>\n",
              "    .dataframe tbody tr th:only-of-type {\n",
              "        vertical-align: middle;\n",
              "    }\n",
              "\n",
              "    .dataframe tbody tr th {\n",
              "        vertical-align: top;\n",
              "    }\n",
              "\n",
              "    .dataframe thead th {\n",
              "        text-align: right;\n",
              "    }\n",
              "</style>\n",
              "<table border=\"1\" class=\"dataframe\">\n",
              "  <thead>\n",
              "    <tr style=\"text-align: right;\">\n",
              "      <th></th>\n",
              "      <th>longitude</th>\n",
              "      <th>latitude</th>\n",
              "      <th>housing_median_age</th>\n",
              "      <th>total_rooms</th>\n",
              "      <th>total_bedrooms</th>\n",
              "      <th>population</th>\n",
              "      <th>households</th>\n",
              "      <th>median_income</th>\n",
              "      <th>median_house_value</th>\n",
              "    </tr>\n",
              "  </thead>\n",
              "  <tbody>\n",
              "    <tr>\n",
              "      <th>0</th>\n",
              "      <td>-114.31</td>\n",
              "      <td>34.19</td>\n",
              "      <td>15.0</td>\n",
              "      <td>5612.0</td>\n",
              "      <td>1283.0</td>\n",
              "      <td>1015.0</td>\n",
              "      <td>472.0</td>\n",
              "      <td>1.4936</td>\n",
              "      <td>66900.0</td>\n",
              "    </tr>\n",
              "    <tr>\n",
              "      <th>1</th>\n",
              "      <td>-114.47</td>\n",
              "      <td>34.40</td>\n",
              "      <td>19.0</td>\n",
              "      <td>7650.0</td>\n",
              "      <td>1901.0</td>\n",
              "      <td>1129.0</td>\n",
              "      <td>463.0</td>\n",
              "      <td>1.8200</td>\n",
              "      <td>80100.0</td>\n",
              "    </tr>\n",
              "    <tr>\n",
              "      <th>2</th>\n",
              "      <td>-114.56</td>\n",
              "      <td>33.69</td>\n",
              "      <td>17.0</td>\n",
              "      <td>720.0</td>\n",
              "      <td>174.0</td>\n",
              "      <td>333.0</td>\n",
              "      <td>117.0</td>\n",
              "      <td>1.6509</td>\n",
              "      <td>85700.0</td>\n",
              "    </tr>\n",
              "    <tr>\n",
              "      <th>3</th>\n",
              "      <td>-114.57</td>\n",
              "      <td>33.64</td>\n",
              "      <td>14.0</td>\n",
              "      <td>1501.0</td>\n",
              "      <td>337.0</td>\n",
              "      <td>515.0</td>\n",
              "      <td>226.0</td>\n",
              "      <td>3.1917</td>\n",
              "      <td>73400.0</td>\n",
              "    </tr>\n",
              "    <tr>\n",
              "      <th>4</th>\n",
              "      <td>-114.57</td>\n",
              "      <td>33.57</td>\n",
              "      <td>20.0</td>\n",
              "      <td>1454.0</td>\n",
              "      <td>326.0</td>\n",
              "      <td>624.0</td>\n",
              "      <td>262.0</td>\n",
              "      <td>1.9250</td>\n",
              "      <td>65500.0</td>\n",
              "    </tr>\n",
              "  </tbody>\n",
              "</table>\n",
              "</div>"
            ],
            "text/plain": [
              "   longitude  latitude  ...  median_income  median_house_value\n",
              "0    -114.31     34.19  ...         1.4936             66900.0\n",
              "1    -114.47     34.40  ...         1.8200             80100.0\n",
              "2    -114.56     33.69  ...         1.6509             85700.0\n",
              "3    -114.57     33.64  ...         3.1917             73400.0\n",
              "4    -114.57     33.57  ...         1.9250             65500.0\n",
              "\n",
              "[5 rows x 9 columns]"
            ]
          },
          "metadata": {
            "tags": []
          },
          "execution_count": 11
        }
      ]
    },
    {
      "cell_type": "code",
      "metadata": {
        "id": "n0agdJxHlhlD",
        "colab_type": "code",
        "colab": {}
      },
      "source": [
        "data_X=data1.iloc[:,:8]"
      ],
      "execution_count": 0,
      "outputs": []
    },
    {
      "cell_type": "code",
      "metadata": {
        "id": "F3sy6j6_lloT",
        "colab_type": "code",
        "colab": {}
      },
      "source": [
        "data_y=data1.iloc[:,8:9]"
      ],
      "execution_count": 0,
      "outputs": []
    },
    {
      "cell_type": "code",
      "metadata": {
        "id": "MJA6j8CdnZLE",
        "colab_type": "code",
        "colab": {}
      },
      "source": [
        "mrk=np.random.rand(len(data_X)) < 0.8"
      ],
      "execution_count": 0,
      "outputs": []
    },
    {
      "cell_type": "code",
      "metadata": {
        "id": "XJefFFNirfKF",
        "colab_type": "code",
        "colab": {}
      },
      "source": [
        "data_X_train=data_X[mrk]\n",
        "data_y_train=data_y[mrk]\n",
        "\n",
        "data_X_test=data_X[~mrk]\n",
        "data_y_test=data_y[~mrk]\n"
      ],
      "execution_count": 0,
      "outputs": []
    },
    {
      "cell_type": "code",
      "metadata": {
        "id": "h_zgEckZrho4",
        "colab_type": "code",
        "outputId": "0258c7b6-8708-493e-a694-0ae04c217ff4",
        "colab": {
          "base_uri": "https://localhost:8080/",
          "height": 34
        }
      },
      "source": [
        "data_y_train.shape"
      ],
      "execution_count": 0,
      "outputs": [
        {
          "output_type": "execute_result",
          "data": {
            "text/plain": [
              "(13617, 1)"
            ]
          },
          "metadata": {
            "tags": []
          },
          "execution_count": 32
        }
      ]
    },
    {
      "cell_type": "code",
      "metadata": {
        "id": "Pa1N8sclSZlt",
        "colab_type": "code",
        "outputId": "f13e91b2-04c8-4331-af59-035ae1b98489",
        "colab": {
          "base_uri": "https://localhost:8080/",
          "height": 34
        }
      },
      "source": [
        "z_points.shape"
      ],
      "execution_count": 0,
      "outputs": [
        {
          "output_type": "execute_result",
          "data": {
            "text/plain": [
              "(100,)"
            ]
          },
          "metadata": {
            "tags": []
          },
          "execution_count": 9
        }
      ]
    },
    {
      "cell_type": "code",
      "metadata": {
        "id": "bCpp1oJz-M79",
        "colab_type": "code",
        "colab": {}
      },
      "source": [
        "data2 = pd.read_excel(\"https://www.dropbox.com/s/v6d11xs9crdx5j0/actividades.xlsx?dl=1\", sheet_name=\"datos_gpdm\")"
      ],
      "execution_count": 0,
      "outputs": []
    },
    {
      "cell_type": "code",
      "metadata": {
        "id": "F_syNZPwSI10",
        "colab_type": "code",
        "outputId": "7cdaf263-ceb3-44de-9e35-6f04251bf570",
        "colab": {
          "base_uri": "https://localhost:8080/",
          "height": 204
        }
      },
      "source": [
        "data2.tail()"
      ],
      "execution_count": 0,
      "outputs": [
        {
          "output_type": "execute_result",
          "data": {
            "text/html": [
              "<div>\n",
              "<style scoped>\n",
              "    .dataframe tbody tr th:only-of-type {\n",
              "        vertical-align: middle;\n",
              "    }\n",
              "\n",
              "    .dataframe tbody tr th {\n",
              "        vertical-align: top;\n",
              "    }\n",
              "\n",
              "    .dataframe thead th {\n",
              "        text-align: right;\n",
              "    }\n",
              "</style>\n",
              "<table border=\"1\" class=\"dataframe\">\n",
              "  <thead>\n",
              "    <tr style=\"text-align: right;\">\n",
              "      <th></th>\n",
              "      <th>X</th>\n",
              "      <th>Y</th>\n",
              "      <th>Z</th>\n",
              "      <th>minX</th>\n",
              "      <th>minY</th>\n",
              "      <th>minZ</th>\n",
              "      <th>maxX</th>\n",
              "      <th>maxY</th>\n",
              "      <th>maxZ</th>\n",
              "      <th>desX</th>\n",
              "      <th>desY</th>\n",
              "      <th>desZ</th>\n",
              "      <th>etiqueta</th>\n",
              "      <th>training_test</th>\n",
              "    </tr>\n",
              "  </thead>\n",
              "  <tbody>\n",
              "    <tr>\n",
              "      <th>513</th>\n",
              "      <td>10.86</td>\n",
              "      <td>11.08</td>\n",
              "      <td>9.49</td>\n",
              "      <td>1906</td>\n",
              "      <td>1799</td>\n",
              "      <td>1488</td>\n",
              "      <td>2042</td>\n",
              "      <td>1943</td>\n",
              "      <td>1611</td>\n",
              "      <td>10.86</td>\n",
              "      <td>11.08</td>\n",
              "      <td>9.49</td>\n",
              "      <td>2</td>\n",
              "      <td>0</td>\n",
              "    </tr>\n",
              "    <tr>\n",
              "      <th>514</th>\n",
              "      <td>12.50</td>\n",
              "      <td>13.62</td>\n",
              "      <td>9.53</td>\n",
              "      <td>1909</td>\n",
              "      <td>1802</td>\n",
              "      <td>1488</td>\n",
              "      <td>2058</td>\n",
              "      <td>1936</td>\n",
              "      <td>1606</td>\n",
              "      <td>12.50</td>\n",
              "      <td>13.62</td>\n",
              "      <td>9.53</td>\n",
              "      <td>2</td>\n",
              "      <td>0</td>\n",
              "    </tr>\n",
              "    <tr>\n",
              "      <th>515</th>\n",
              "      <td>13.92</td>\n",
              "      <td>13.40</td>\n",
              "      <td>10.11</td>\n",
              "      <td>1907</td>\n",
              "      <td>1802</td>\n",
              "      <td>1495</td>\n",
              "      <td>2047</td>\n",
              "      <td>1942</td>\n",
              "      <td>1610</td>\n",
              "      <td>13.92</td>\n",
              "      <td>13.40</td>\n",
              "      <td>10.11</td>\n",
              "      <td>2</td>\n",
              "      <td>0</td>\n",
              "    </tr>\n",
              "    <tr>\n",
              "      <th>516</th>\n",
              "      <td>12.21</td>\n",
              "      <td>13.40</td>\n",
              "      <td>9.47</td>\n",
              "      <td>1883</td>\n",
              "      <td>1795</td>\n",
              "      <td>1495</td>\n",
              "      <td>2031</td>\n",
              "      <td>1936</td>\n",
              "      <td>1605</td>\n",
              "      <td>12.21</td>\n",
              "      <td>13.40</td>\n",
              "      <td>9.47</td>\n",
              "      <td>2</td>\n",
              "      <td>0</td>\n",
              "    </tr>\n",
              "    <tr>\n",
              "      <th>517</th>\n",
              "      <td>23.16</td>\n",
              "      <td>35.36</td>\n",
              "      <td>21.34</td>\n",
              "      <td>1837</td>\n",
              "      <td>1753</td>\n",
              "      <td>1462</td>\n",
              "      <td>2023</td>\n",
              "      <td>1999</td>\n",
              "      <td>1616</td>\n",
              "      <td>23.16</td>\n",
              "      <td>35.36</td>\n",
              "      <td>21.34</td>\n",
              "      <td>2</td>\n",
              "      <td>1</td>\n",
              "    </tr>\n",
              "  </tbody>\n",
              "</table>\n",
              "</div>"
            ],
            "text/plain": [
              "         X      Y      Z  minX  ...   desY   desZ  etiqueta  training_test\n",
              "513  10.86  11.08   9.49  1906  ...  11.08   9.49         2              0\n",
              "514  12.50  13.62   9.53  1909  ...  13.62   9.53         2              0\n",
              "515  13.92  13.40  10.11  1907  ...  13.40  10.11         2              0\n",
              "516  12.21  13.40   9.47  1883  ...  13.40   9.47         2              0\n",
              "517  23.16  35.36  21.34  1837  ...  35.36  21.34         2              1\n",
              "\n",
              "[5 rows x 14 columns]"
            ]
          },
          "metadata": {
            "tags": []
          },
          "execution_count": 11
        }
      ]
    },
    {
      "cell_type": "code",
      "metadata": {
        "id": "hVk_bJKcSoOt",
        "colab_type": "code",
        "outputId": "d0438669-c56a-4c9a-fdd5-43bb8d6fff5c",
        "colab": {
          "base_uri": "https://localhost:8080/",
          "height": 164
        }
      },
      "source": [
        "clasif.iloc[5]"
      ],
      "execution_count": 0,
      "outputs": [
        {
          "output_type": "error",
          "ename": "NameError",
          "evalue": "ignored",
          "traceback": [
            "\u001b[0;31m---------------------------------------------------------------------------\u001b[0m",
            "\u001b[0;31mNameError\u001b[0m                                 Traceback (most recent call last)",
            "\u001b[0;32m<ipython-input-12-20755524c66b>\u001b[0m in \u001b[0;36m<module>\u001b[0;34m()\u001b[0m\n\u001b[0;32m----> 1\u001b[0;31m \u001b[0mclasif\u001b[0m\u001b[0;34m.\u001b[0m\u001b[0miloc\u001b[0m\u001b[0;34m[\u001b[0m\u001b[0;36m5\u001b[0m\u001b[0;34m]\u001b[0m\u001b[0;34m\u001b[0m\u001b[0;34m\u001b[0m\u001b[0m\n\u001b[0m",
            "\u001b[0;31mNameError\u001b[0m: name 'clasif' is not defined"
          ]
        }
      ]
    },
    {
      "cell_type": "code",
      "metadata": {
        "id": "naqd0FdTSpLY",
        "colab_type": "code",
        "colab": {}
      },
      "source": [
        "fig = plt.figure()\n",
        "ax = plt.axes(projection=\"3d\")\n",
        "\n",
        "z_points = data2[\"Z\"]\n",
        "x_points = data2[\"X\"]\n",
        "y_points = data2[\"Y\"]\n",
        "clasif  = data2[\"etiqueta\"]\n",
        "for i,x in enumerate(clasif):\n",
        "  if (clasif.iloc[i]==0):\n",
        "    clasif.iloc[i]=\"r\"\n",
        "  if (clasif.iloc[i]==1):\n",
        "    clasif.iloc[i]=\"b\"\n",
        "  if (clasif.iloc[i]==2):\n",
        "    clasif.iloc[i]=\"g\"\n",
        "  if (clasif.iloc[i]==3):\n",
        "    clasif.iloc[i]=\"c\"\n",
        "    \n",
        "ax.scatter3D(x_points, y_points, z_points, c=clasif);\n",
        "\n",
        "plt.show()\n"
      ],
      "execution_count": 0,
      "outputs": []
    },
    {
      "cell_type": "code",
      "metadata": {
        "id": "edW4HyLE_bZ6",
        "colab_type": "code",
        "colab": {}
      },
      "source": [
        "data2[data2[\"etiqueta\"]==\"0\"]"
      ],
      "execution_count": 0,
      "outputs": []
    },
    {
      "cell_type": "code",
      "metadata": {
        "id": "iMjYgV_EABQk",
        "colab_type": "code",
        "colab": {}
      },
      "source": [
        "data2[\"etiqueta\"]"
      ],
      "execution_count": 0,
      "outputs": []
    },
    {
      "cell_type": "code",
      "metadata": {
        "id": "jenZCY55AETl",
        "colab_type": "code",
        "colab": {}
      },
      "source": [
        "s1=\"hola como estas?\""
      ],
      "execution_count": 0,
      "outputs": []
    },
    {
      "cell_type": "code",
      "metadata": {
        "id": "_fheNVuRTAFH",
        "colab_type": "code",
        "outputId": "80f99fd9-ea54-42ff-e2a2-06a017ce6125",
        "colab": {
          "base_uri": "https://localhost:8080/",
          "height": 34
        }
      },
      "source": [
        "s1[1:][::2]"
      ],
      "execution_count": 0,
      "outputs": [
        {
          "output_type": "execute_result",
          "data": {
            "text/plain": [
              "'oacm sa?'"
            ]
          },
          "metadata": {
            "tags": []
          },
          "execution_count": 24
        }
      ]
    },
    {
      "cell_type": "code",
      "metadata": {
        "id": "hnwDRVxETCtS",
        "colab_type": "code",
        "outputId": "12fd7398-c043-4015-b97b-6a1d2bc2ba14",
        "colab": {
          "base_uri": "https://localhost:8080/",
          "height": 34
        }
      },
      "source": [
        "s1[::2]"
      ],
      "execution_count": 0,
      "outputs": [
        {
          "output_type": "execute_result",
          "data": {
            "text/plain": [
              "'hl ooets'"
            ]
          },
          "metadata": {
            "tags": []
          },
          "execution_count": 25
        }
      ]
    },
    {
      "cell_type": "code",
      "metadata": {
        "id": "UfUVzhLVTB1m",
        "colab_type": "code",
        "outputId": "480cff24-689c-4744-cde8-a7c6b8510f0e",
        "colab": {
          "base_uri": "https://localhost:8080/",
          "height": 129
        }
      },
      "source": [
        "df3=pd.read"
      ],
      "execution_count": 0,
      "outputs": [
        {
          "output_type": "error",
          "ename": "SyntaxError",
          "evalue": "ignored",
          "traceback": [
            "\u001b[0;36m  File \u001b[0;32m\"<ipython-input-4-4cf4f10edf52>\"\u001b[0;36m, line \u001b[0;32m1\u001b[0m\n\u001b[0;31m    import\u001b[0m\n\u001b[0m           ^\u001b[0m\n\u001b[0;31mSyntaxError\u001b[0m\u001b[0;31m:\u001b[0m invalid syntax\n"
          ]
        }
      ]
    },
    {
      "cell_type": "markdown",
      "metadata": {
        "id": "9KQUDyoJTBLq",
        "colab_type": "text"
      },
      "source": [
        ""
      ]
    }
  ]
}