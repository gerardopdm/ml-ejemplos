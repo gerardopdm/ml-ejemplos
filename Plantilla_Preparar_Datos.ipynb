{
  "nbformat": 4,
  "nbformat_minor": 0,
  "metadata": {
    "colab": {
      "name": "Plantilla Preparar Datos.ipynb",
      "version": "0.3.2",
      "provenance": [],
      "include_colab_link": true
    },
    "language_info": {
      "codemirror_mode": {
        "name": "ipython",
        "version": 3
      },
      "file_extension": ".py",
      "mimetype": "text/x-python",
      "name": "python",
      "nbconvert_exporter": "python",
      "pygments_lexer": "ipython3",
      "version": "3.6.5"
    },
    "kernelspec": {
      "display_name": "Python 3",
      "language": "python",
      "name": "python3"
    }
  },
  "cells": [
    {
      "cell_type": "markdown",
      "metadata": {
        "id": "view-in-github",
        "colab_type": "text"
      },
      "source": [
        "<a href=\"https://colab.research.google.com/github/gerardopdm/ml-ejemplos/blob/master/Plantilla_Preparar_Datos.ipynb\" target=\"_parent\"><img src=\"https://colab.research.google.com/assets/colab-badge.svg\" alt=\"Open In Colab\"/></a>"
      ]
    },
    {
      "cell_type": "markdown",
      "metadata": {
        "id": "dhJ1m0jHpbHz",
        "colab_type": "text"
      },
      "source": [
        "# Iniciar librerias\n",
        "Otras disponibles:"
      ]
    },
    {
      "cell_type": "code",
      "metadata": {
        "id": "IYDths0MpbH1",
        "colab_type": "code",
        "colab": {}
      },
      "source": [
        "%matplotlib inline\n",
        "import numpy as np\n",
        "import pandas as pd\n",
        "import matplotlib.pyplot as plt\n",
        "import seaborn as sns"
      ],
      "execution_count": 0,
      "outputs": []
    },
    {
      "cell_type": "markdown",
      "metadata": {
        "id": "I7M-97CTpbH6",
        "colab_type": "text"
      },
      "source": [
        "# Leer datos\n",
        "- df1=pd.read_excel(\"archivo_excel\")\n",
        "- df1=pd.read_csv(\"archivos_csv\")\n",
        "- df1=pd.read_csv( \"archivos_csv\", sep  = \",\", dtype={\"col1\":np.float64, \"col2\":np.int32 }, header=0, skiprows=0 )"
      ]
    },
    {
      "cell_type": "code",
      "metadata": {
        "id": "WDek-ENOpbH7",
        "colab_type": "code",
        "colab": {}
      },
      "source": [
        ""
      ],
      "execution_count": 0,
      "outputs": []
    },
    {
      "cell_type": "markdown",
      "metadata": {
        "id": "lKfNBAB1pbIA",
        "colab_type": "text"
      },
      "source": [
        "***\n",
        "# Limpiar datos"
      ]
    },
    {
      "cell_type": "markdown",
      "metadata": {
        "id": "9oNUBvlwpbIB",
        "colab_type": "text"
      },
      "source": [
        "## Revisar los tipos de datos y nombres de columnas\n",
        "- df1.dtypes\n",
        "- df1.head()"
      ]
    },
    {
      "cell_type": "code",
      "metadata": {
        "id": "pDofTLO0pbID",
        "colab_type": "code",
        "colab": {}
      },
      "source": [
        ""
      ],
      "execution_count": 0,
      "outputs": []
    },
    {
      "cell_type": "markdown",
      "metadata": {
        "id": "10g65wkSujmC",
        "colab_type": "text"
      },
      "source": [
        "## Procesar columnas con información faltante\n",
        "\n",
        "```\n",
        "#listar los cambpos con valores nulos\n",
        "df1.isna().sum()\n",
        "  \n",
        "\n",
        "#eliminar reemplazar con promedio\n",
        "df_titanic[\"Age\"]=df_titanic[\"Age\"].fillna(df_titanic[\"Age\"].mean())\n",
        "\n",
        "```\n",
        "\n"
      ]
    },
    {
      "cell_type": "markdown",
      "metadata": {
        "id": "PLd8xQs6pbIH",
        "colab_type": "text"
      },
      "source": [
        "## Eliminar columnas\n",
        "\n",
        "- __Eliminar columnas por medio del indice:__ df1.drop(index=0,inplace=True)\n",
        "- __Eliminar renglones por medio del indice:__ df1.drop(351, inplace=True)\n",
        "- __Eliminar campos por nombre:__ df3.drop(columns=[\"campo1\",\"campo2\"],inplace=True)\n"
      ]
    },
    {
      "cell_type": "code",
      "metadata": {
        "id": "4I4wBGYzpbII",
        "colab_type": "code",
        "colab": {}
      },
      "source": [
        ""
      ],
      "execution_count": 0,
      "outputs": []
    },
    {
      "cell_type": "markdown",
      "metadata": {
        "id": "QKj_aFfPpbIM",
        "colab_type": "text"
      },
      "source": [
        "## Limpiar datos por tipo de dato\n",
        "- __Quitar los datos que no son numéricos:__ df1.select_dtypes(include='float64')\n",
        "- __Añadir algunos de los que no son númericos:__ "
      ]
    },
    {
      "cell_type": "code",
      "metadata": {
        "id": "C0SHcXNhpbIO",
        "colab_type": "code",
        "colab": {}
      },
      "source": [
        ""
      ],
      "execution_count": 0,
      "outputs": []
    },
    {
      "cell_type": "markdown",
      "metadata": {
        "id": "ro2wntfspbIR",
        "colab_type": "text"
      },
      "source": [
        "***\n",
        "# Analizar datos"
      ]
    },
    {
      "cell_type": "markdown",
      "metadata": {
        "id": "v05tCWvypbIS",
        "colab_type": "text"
      },
      "source": [
        "## Buscar correlaciones de datos numéricos\n",
        "- df2.corr()"
      ]
    },
    {
      "cell_type": "code",
      "metadata": {
        "id": "qOCxZPPMpbIU",
        "colab_type": "code",
        "colab": {}
      },
      "source": [
        ""
      ],
      "execution_count": 0,
      "outputs": []
    },
    {
      "cell_type": "markdown",
      "metadata": {
        "id": "0mAPZuJApbIY",
        "colab_type": "text"
      },
      "source": [
        "## Graficar\n",
        "- __Fija ar el tamaño de las gráficas:__ sns.set(rc={'figure.figsize':(8,5)})\n",
        "- __Scatter plot:__ sns.scatterplot(x=\"ALTURA (cm)\", y=\"RECIO (mm)\", data=df1, hue=\"GENERO\")\n",
        "- __Scatter con regresión lineal:__ sns.regplot(df1[\"ANCHO METATARSAL (mm)\"],df1[\"RECIO (mm)\"], marker=\".\")\n",
        "- __Histograma:__ df1[\"RECIO (mm)\"].hist(bins=12)\n",
        "- __Scatter matrix__: sns.set(style=\"ticks\")<br>\n",
        "sns.pairplot(df3,hue=\"GENERO\")\n",
        "- __Scatter matrix selecionando algunas columnas:__ sns.set(style=\"ticks\")<br>\n",
        "sns.pairplot(df3[df3.columns[0:10].append(df3.columns[-1:])],hue=\"GENERO\")"
      ]
    },
    {
      "cell_type": "code",
      "metadata": {
        "id": "QCN31dMjpbIZ",
        "colab_type": "code",
        "colab": {}
      },
      "source": [
        ""
      ],
      "execution_count": 0,
      "outputs": []
    },
    {
      "cell_type": "markdown",
      "metadata": {
        "id": "19nv_UEwYUH9",
        "colab_type": "text"
      },
      "source": [
        "#Separar datos de entrenamiento y de testing"
      ]
    },
    {
      "cell_type": "markdown",
      "metadata": {
        "id": "ASB0H2n5Ya4f",
        "colab_type": "text"
      },
      "source": [
        "* msk = np.random.rand(len(df1)) < 0.8\n",
        "* df_training=df1[msk]\n",
        "* df_test=df1[~msk]\n",
        "\n",
        "\n",
        "\n"
      ]
    },
    {
      "cell_type": "markdown",
      "metadata": {
        "id": "Yj5uoK9aL-K2",
        "colab_type": "text"
      },
      "source": [
        "# Transformar"
      ]
    },
    {
      "cell_type": "code",
      "metadata": {
        "id": "a4wojDK1pbIi",
        "colab_type": "code",
        "colab": {}
      },
      "source": [
        "from sklearn.preprocessing import OneHotEncoder, StandardScaler\n",
        "from sklearn.compose import make_column_transformer, ColumnTransformer\n",
        "from sklearn.model_selection import train_test_split"
      ],
      "execution_count": 0,
      "outputs": []
    },
    {
      "cell_type": "markdown",
      "metadata": {
        "id": "Qpfgj_dYME2x",
        "colab_type": "text"
      },
      "source": [
        "## Importar librerías y objetos\n",
        "\n",
        "\n",
        "```\n",
        "from sklearn.preprocessing import OneHotEncoder, StandardScaler\n",
        "from sklearn.compose import make_column_transformer, ColumnTransformer\n",
        "from sklearn.model_selection import train_test_split\n",
        "```\n",
        "\n"
      ]
    },
    {
      "cell_type": "markdown",
      "metadata": {
        "id": "OuxuwPYEMVWK",
        "colab_type": "text"
      },
      "source": [
        "## Seleccionar columnas\n",
        "\n",
        "\n",
        "```\n",
        "X = df[['Pclass', 'Sex', 'Age', 'Fare', 'Embarked']]\n",
        "y = df.Survived.values\n",
        "```\n",
        "\n"
      ]
    },
    {
      "cell_type": "markdown",
      "metadata": {
        "id": "Bvc81P4YMcyB",
        "colab_type": "text"
      },
      "source": [
        "## Preparar el preprocesador\n",
        "\n",
        "\n",
        "```\n",
        "preprocesador = make_column_transformer(\n",
        "    (StandardScaler(), ['Age', 'Fare']),\n",
        "    (OneHotEncoder(), ['Sex', 'Pclass', 'Embarked'])\n",
        ")\n",
        "```\n",
        "\n"
      ]
    },
    {
      "cell_type": "markdown",
      "metadata": {
        "id": "pkR9t0WbMkSc",
        "colab_type": "text"
      },
      "source": [
        "## Aplicar el transformer\n",
        "\n",
        "\n",
        "```\n",
        "X_train = preprocesador.fit_transform(X)\n",
        "```\n",
        "\n"
      ]
    },
    {
      "cell_type": "code",
      "metadata": {
        "id": "BrA2-V17MBi6",
        "colab_type": "code",
        "colab": {}
      },
      "source": [
        ""
      ],
      "execution_count": 0,
      "outputs": []
    }
  ]
}